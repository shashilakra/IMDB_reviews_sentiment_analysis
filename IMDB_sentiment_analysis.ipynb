{
 "cells": [
  {
   "cell_type": "code",
   "execution_count": 1,
   "metadata": {
    "id": "Ct5ivOquQqxw"
   },
   "outputs": [],
   "source": [
    "import pandas as pd\n",
    "import numpy as np\n",
    "import matplotlib.pyplot as plt\n",
    "import seaborn as sns\n",
    "import re\n",
    "import nltk\n",
    "from nltk.corpus import stopwords\n",
    "from nltk.tokenize import word_tokenize\n",
    "from nltk.stem.snowball import SnowballStemmer\n",
    "from sklearn.feature_extraction.text import CountVectorizer\n",
    "from sklearn.feature_extraction.text import TfidfVectorizer"
   ]
  },
  {
   "cell_type": "code",
   "execution_count": 3,
   "metadata": {
    "id": "SIm16LD9RZIf"
   },
   "outputs": [],
   "source": [
    "#read data\n",
    "data = pd.read_csv(\"IMDB Dataset.csv\")"
   ]
  },
  {
   "cell_type": "code",
   "execution_count": 4,
   "metadata": {
    "colab": {
     "base_uri": "https://localhost:8080/"
    },
    "id": "LXO-3GISRgHL",
    "outputId": "07c04187-5117-4604-994d-ae56b6a6b7ec"
   },
   "outputs": [
    {
     "name": "stdout",
     "output_type": "stream",
     "text": [
      "<class 'pandas.core.frame.DataFrame'>\n",
      "RangeIndex: 50000 entries, 0 to 49999\n",
      "Data columns (total 2 columns):\n",
      " #   Column     Non-Null Count  Dtype \n",
      "---  ------     --------------  ----- \n",
      " 0   review     50000 non-null  object\n",
      " 1   sentiment  50000 non-null  object\n",
      "dtypes: object(2)\n",
      "memory usage: 781.4+ KB\n"
     ]
    }
   ],
   "source": [
    "data.info()"
   ]
  },
  {
   "cell_type": "code",
   "execution_count": 5,
   "metadata": {
    "colab": {
     "base_uri": "https://localhost:8080/",
     "height": 206
    },
    "id": "e08SYFBnTK8a",
    "outputId": "b9adea62-0ebf-4565-eddf-b3ef1166f2c1"
   },
   "outputs": [
    {
     "data": {
      "text/html": [
       "<div>\n",
       "<style scoped>\n",
       "    .dataframe tbody tr th:only-of-type {\n",
       "        vertical-align: middle;\n",
       "    }\n",
       "\n",
       "    .dataframe tbody tr th {\n",
       "        vertical-align: top;\n",
       "    }\n",
       "\n",
       "    .dataframe thead th {\n",
       "        text-align: right;\n",
       "    }\n",
       "</style>\n",
       "<table border=\"1\" class=\"dataframe\">\n",
       "  <thead>\n",
       "    <tr style=\"text-align: right;\">\n",
       "      <th></th>\n",
       "      <th>review</th>\n",
       "      <th>sentiment</th>\n",
       "    </tr>\n",
       "  </thead>\n",
       "  <tbody>\n",
       "    <tr>\n",
       "      <th>0</th>\n",
       "      <td>One of the other reviewers has mentioned that ...</td>\n",
       "      <td>positive</td>\n",
       "    </tr>\n",
       "    <tr>\n",
       "      <th>1</th>\n",
       "      <td>A wonderful little production. &lt;br /&gt;&lt;br /&gt;The...</td>\n",
       "      <td>positive</td>\n",
       "    </tr>\n",
       "    <tr>\n",
       "      <th>2</th>\n",
       "      <td>I thought this was a wonderful way to spend ti...</td>\n",
       "      <td>positive</td>\n",
       "    </tr>\n",
       "    <tr>\n",
       "      <th>3</th>\n",
       "      <td>Basically there's a family where a little boy ...</td>\n",
       "      <td>negative</td>\n",
       "    </tr>\n",
       "    <tr>\n",
       "      <th>4</th>\n",
       "      <td>Petter Mattei's \"Love in the Time of Money\" is...</td>\n",
       "      <td>positive</td>\n",
       "    </tr>\n",
       "  </tbody>\n",
       "</table>\n",
       "</div>"
      ],
      "text/plain": [
       "                                              review sentiment\n",
       "0  One of the other reviewers has mentioned that ...  positive\n",
       "1  A wonderful little production. <br /><br />The...  positive\n",
       "2  I thought this was a wonderful way to spend ti...  positive\n",
       "3  Basically there's a family where a little boy ...  negative\n",
       "4  Petter Mattei's \"Love in the Time of Money\" is...  positive"
      ]
     },
     "execution_count": 5,
     "metadata": {},
     "output_type": "execute_result"
    }
   ],
   "source": [
    "# checking first 5 rows of the dataset\n",
    "data.head(5)"
   ]
  },
  {
   "cell_type": "code",
   "execution_count": 6,
   "metadata": {
    "colab": {
     "base_uri": "https://localhost:8080/"
    },
    "id": "cRqcGQiuUMam",
    "outputId": "7c321fad-2fe0-4e2e-df65-e93ec510f7a2"
   },
   "outputs": [
    {
     "data": {
      "text/plain": [
       "review       0\n",
       "sentiment    0\n",
       "dtype: int64"
      ]
     },
     "execution_count": 6,
     "metadata": {},
     "output_type": "execute_result"
    }
   ],
   "source": [
    "data.isnull().sum()"
   ]
  },
  {
   "cell_type": "code",
   "execution_count": 7,
   "metadata": {
    "colab": {
     "base_uri": "https://localhost:8080/",
     "height": 145
    },
    "id": "MTpIGM8XYD_G",
    "outputId": "024a93da-d9b1-44db-f05e-5159ff8273e9"
   },
   "outputs": [
    {
     "data": {
      "text/plain": [
       "'I thought this was a wonderful way to spend time on a too hot summer weekend, sitting in the air conditioned theater and watching a light-hearted comedy. The plot is simplistic, but the dialogue is witty and the characters are likable (even the well bread suspected serial killer). While some may be disappointed when they realize this is not Match Point 2: Risk Addiction, I thought it was proof that Woody Allen is still fully in control of the style many of us have grown to love.<br /><br />This was the most I\\'d laughed at one of Woody\\'s comedies in years (dare I say a decade?). While I\\'ve never been impressed with Scarlet Johanson, in this she managed to tone down her \"sexy\" image and jumped right into a average, but spirited young woman.<br /><br />This may not be the crown jewel of his career, but it was wittier than \"Devil Wears Prada\" and more interesting than \"Superman\" a great comedy to go see with friends.'"
      ]
     },
     "execution_count": 7,
     "metadata": {},
     "output_type": "execute_result"
    }
   ],
   "source": [
    "# checking sample review\n",
    "data.review.iloc[2]"
   ]
  },
  {
   "cell_type": "code",
   "execution_count": 8,
   "metadata": {
    "colab": {
     "base_uri": "https://localhost:8080/"
    },
    "id": "vPHJwFTdYHvs",
    "outputId": "5ba11cb6-1def-4aeb-fe00-ad52e741bd7d"
   },
   "outputs": [
    {
     "data": {
      "text/plain": [
       "negative    25000\n",
       "positive    25000\n",
       "Name: sentiment, dtype: int64"
      ]
     },
     "execution_count": 8,
     "metadata": {},
     "output_type": "execute_result"
    }
   ],
   "source": [
    "data.sentiment.value_counts()"
   ]
  },
  {
   "cell_type": "code",
   "execution_count": 9,
   "metadata": {
    "id": "PbOHsKOnYKSe"
   },
   "outputs": [],
   "source": [
    "train = data.iloc[0:40000].copy(deep=True)  # train dataset\n",
    "test = data.iloc[40000:].copy(deep=True)    # test dataset"
   ]
  },
  {
   "cell_type": "code",
   "execution_count": 10,
   "metadata": {
    "colab": {
     "base_uri": "https://localhost:8080/"
    },
    "id": "zbtKLnklYNUv",
    "outputId": "92ee0d6c-63eb-4b5a-ab85-87d98f7eab6c"
   },
   "outputs": [
    {
     "name": "stdout",
     "output_type": "stream",
     "text": [
      "(40000, 2)\n",
      "(10000, 2)\n"
     ]
    }
   ],
   "source": [
    "print(train.shape)\n",
    "print(test.shape)"
   ]
  },
  {
   "cell_type": "code",
   "execution_count": 11,
   "metadata": {
    "colab": {
     "base_uri": "https://localhost:8080/",
     "height": 336
    },
    "id": "5lYsVIGoYPN9",
    "outputId": "25d39049-b529-48e1-b1bb-1569ac56574a"
   },
   "outputs": [
    {
     "data": {
      "image/png": "[encoded data removed]",
      "text/plain": [
       "<Figure size 1440x360 with 1 Axes>"
      ]
     },
     "metadata": {
      "needs_background": "light"
     },
     "output_type": "display_data"
    }
   ],
   "source": [
    "word_count = train['review'].str.split().apply(len).value_counts()\n",
    "word_dict = dict(word_count)\n",
    "word_dict = dict(sorted(word_dict.items(), key=lambda kv: kv[1]))\n",
    "\n",
    "\n",
    "ind = np.arange(len(word_dict))\n",
    "plt.figure(figsize=(20,5))\n",
    "p1 = plt.bar(ind, list(word_dict.values()))\n",
    "\n",
    "plt.ylabel('word count')\n",
    "plt.xlabel('Reviews indexed based on word count')\n",
    "plt.title('Words for each review in ascending order')\n",
    "plt.xticks(ind, list(word_dict.keys()))\n",
    "plt.show()"
   ]
  },
  {
   "cell_type": "code",
   "execution_count": 12,
   "metadata": {
    "colab": {
     "base_uri": "https://localhost:8080/",
     "height": 399
    },
    "id": "T6Srpa5PYSgP",
    "outputId": "3858f6d1-12c9-4f82-d8cd-c52164095f7c"
   },
   "outputs": [
    {
     "data": {
      "image/png": "[encoded data removed]",
      "text/plain": [
       "<Figure size 360x360 with 1 Axes>"
      ]
     },
     "metadata": {
      "needs_background": "light"
     },
     "output_type": "display_data"
    }
   ],
   "source": [
    "sns.displot(word_count.values)\n",
    "plt.title('Count of Words for each review')\n",
    "plt.xlabel('Number of words in each review')\n",
    "plt.show()\n"
   ]
  },
  {
   "cell_type": "code",
   "execution_count": 13,
   "metadata": {
    "id": "hrseg1YcY8zk"
   },
   "outputs": [],
   "source": [
    "positive_word_count = train[train['sentiment']=='positive']['review'].str.split().apply(len)\n",
    "positive_word_count = positive_word_count.values\n",
    "\n",
    "negative_word_count = train[train['sentiment']=='negative']['review'].str.split().apply(len)\n",
    "negative_word_count = negative_word_count.values"
   ]
  },
  {
   "cell_type": "code",
   "execution_count": 14,
   "metadata": {
    "colab": {
     "base_uri": "https://localhost:8080/",
     "height": 322
    },
    "id": "znA6mMOaY8wi",
    "outputId": "51b3b377-1f69-47ef-f98d-9b5f311bb358"
   },
   "outputs": [
    {
     "data": {
      "image/png": "[encoded data removed]",
      "text/plain": [
       "<Figure size 432x288 with 1 Axes>"
      ]
     },
     "metadata": {
      "needs_background": "light"
     },
     "output_type": "display_data"
    }
   ],
   "source": [
    "plt.boxplot([positive_word_count, negative_word_count])\n",
    "plt.xticks([1,2],('Positive reviews','Negative reviews'))\n",
    "plt.ylabel('Words in reviews')\n",
    "plt.grid()\n",
    "plt.show()"
   ]
  },
  {
   "cell_type": "code",
   "execution_count": 15,
   "metadata": {
    "id": "YaOPc9YYY8uG"
   },
   "outputs": [],
   "source": [
    "\n",
    "\n",
    "def decontract_words(text):\n",
    "    '''\n",
    "    input: takes text as input which can have words such as won't, can't, shouldn't etc\n",
    "    output: return the text by decontracting the words won't to would not, shouldn't to should not etc.\n",
    "    '''\n",
    "    # specific\n",
    "    text = re.sub(r\"won\\'t\", \"will not\", text)\n",
    "    text = re.sub(r\"can\\'t\", \"can not\", text)\n",
    "\n",
    "    # general\n",
    "    text = re.sub(r\"n\\'t\", \" not\", text)\n",
    "    text = re.sub(r\"\\'re\", \" are\", text)\n",
    "    text = re.sub(r\"\\'s\", \" is\", text)\n",
    "    text = re.sub(r\"\\'d\", \" would\", text)\n",
    "    text = re.sub(r\"\\'ll\", \" will\", text)\n",
    "    text = re.sub(r\"\\'t\", \" not\", text)\n",
    "    text = re.sub(r\"\\'ve\", \" have\", text)\n",
    "    text = re.sub(r\"\\'m\", \" am\", text)\n",
    "    \n",
    "    return text\n",
    "\n",
    "\n",
    "\n",
    "def removePunctuation(text):\n",
    "    '''\n",
    "    input : takes text as input and removes special characters like  @, ?, ! etc.\n",
    "    '''\n",
    "    cleanedText = re.sub(r'\\^[a-zA-Z]\\s+', ' ', text)\n",
    "    cleanedText = re.sub(r'\\s+[a-zA-Z]\\s+', ' ', cleanedText)\n",
    "    cleanedText = re.sub(r'\\s+', ' ', cleanedText, flags=re.I)\n",
    "    cleanedText = re.sub(r'[^A-Za-z]+',' ',cleanedText)\n",
    "    cleanedText = re.sub(r'[?|!|\\'|\"|#|+|@|)|(]', r' ', cleanedText) \n",
    "    cleanedText = re.sub(r'[.|,|)|(|\\|/]', r' ', cleanedText)\n",
    "    cleanedText = re.sub(r'[*|&|=|$|%|+|@|)|(]', r' ', cleanedText) \n",
    "    cleanedText = re.sub(r'[,|;|:|}|{|-|_|£]', r' ', cleanedText) \n",
    "    cleanedText = cleanedText.lower() # all the words are then converted to lower case and then finally returned\n",
    "    return cleanedText"
   ]
  },
  {
   "cell_type": "code",
   "execution_count": 16,
   "metadata": {
    "colab": {
     "base_uri": "https://localhost:8080/",
     "height": 145
    },
    "id": "CtyxKuk7Y8sj",
    "outputId": "55d638d3-e7bf-407e-c28b-2f0532b2e9ea"
   },
   "outputs": [
    {
     "data": {
      "text/plain": [
       "'I thought this was a wonderful way to spend time on a too hot summer weekend, sitting in the air conditioned theater and watching a light-hearted comedy. The plot is simplistic, but the dialogue is witty and the characters are likable (even the well bread suspected serial killer). While some may be disappointed when they realize this is not Match Point 2: Risk Addiction, I thought it was proof that Woody Allen is still fully in control of the style many of us have grown to love.<br /><br />This was the most I\\'d laughed at one of Woody\\'s comedies in years (dare I say a decade?). While I\\'ve never been impressed with Scarlet Johanson, in this she managed to tone down her \"sexy\" image and jumped right into a average, but spirited young woman.<br /><br />This may not be the crown jewel of his career, but it was wittier than \"Devil Wears Prada\" and more interesting than \"Superman\" a great comedy to go see with friends.'"
      ]
     },
     "execution_count": 16,
     "metadata": {},
     "output_type": "execute_result"
    }
   ],
   "source": [
    "# row 2 review before preprocessing\n",
    "train.review.iloc[2] "
   ]
  },
  {
   "cell_type": "code",
   "execution_count": 17,
   "metadata": {
    "id": "Lwk3p767Y8qj"
   },
   "outputs": [],
   "source": [
    "train.loc[:,'review'] = train.review.apply(decontract_words) \n",
    "train.loc[:,'review'] = train.review.apply(removePunctuation)"
   ]
  },
  {
   "cell_type": "code",
   "execution_count": 18,
   "metadata": {
    "colab": {
     "base_uri": "https://localhost:8080/",
     "height": 145
    },
    "id": "tz5IhcsuY8n5",
    "outputId": "581960c1-272d-46f9-9fab-6e4e4c211537"
   },
   "outputs": [
    {
     "data": {
      "text/plain": [
       "'i thought this was wonderful way to spend time on too hot summer weekend sitting in the air conditioned theater and watching light hearted comedy the plot is simplistic but the dialogue is witty and the characters are likable even the well bread suspected serial killer while some may be disappointed when they realize this is not match point risk addiction thought it was proof that woody allen is still fully in control of the style many of us have grown to love br br this was the most would laughed at one of woody is comedies in years dare say decade while have never been impressed with scarlet johanson in this she managed to tone down her sexy image and jumped right into average but spirited young woman br br this may not be the crown jewel of his career but it was wittier than devil wears prada and more interesting than superman great comedy to go see with friends '"
      ]
     },
     "execution_count": 18,
     "metadata": {},
     "output_type": "execute_result"
    }
   ],
   "source": [
    "# row 2 review after decontracting, removing punctuations and converting all words to lower case\n",
    "train.review.iloc[2] "
   ]
  },
  {
   "cell_type": "code",
   "execution_count": 19,
   "metadata": {
    "colab": {
     "base_uri": "https://localhost:8080/"
    },
    "id": "0pGeIzh6Y8km",
    "outputId": "148252e3-e057-48db-b220-9f249d80a2ab"
   },
   "outputs": [
    {
     "name": "stderr",
     "output_type": "stream",
     "text": [
      "[nltk_data] Downloading package stopwords to\n",
      "[nltk_data]     C:\\Users\\ShashiKant\\AppData\\Roaming\\nltk_data...\n",
      "[nltk_data]   Package stopwords is already up-to-date!\n"
     ]
    },
    {
     "name": "stdout",
     "output_type": "stream",
     "text": [
      "{'it', 'no', 'these', \"aren't\", 'don', 'should', 'then', 've', 'as', 'are', 'being', 'so', 'such', 'my', 'who', 'other', 'on', 'you', 'been', 'i', \"you'll\", \"won't\", 'does', 'ours', 'into', 'after', 'until', 'own', 'our', 'needn', 'against', 'between', \"needn't\", 'shan', 'his', \"should've\", \"hadn't\", 'have', 'about', 'had', 'they', 'more', 'o', 'hasn', 'what', 'myself', 'ourselves', 'but', 'itself', 'here', 'themselves', 'out', 'mightn', 'at', 'over', \"mustn't\", 'she', 'if', 'of', 'before', 'doesn', 'we', 'theirs', \"she's\", 'that', 'were', 'shouldn', 'its', \"you're\", 'most', 'nor', 'very', 'did', 'each', \"shouldn't\", 'for', 'all', 'ain', 'be', 'in', \"didn't\", 'there', 'this', 'from', 'him', 'your', \"you've\", 'he', 'below', \"don't\", \"it's\", 'is', 'not', 'was', 'too', 'and', \"hasn't\", 'am', 'down', 'during', 'aren', 'her', 'only', 'few', 'again', 'herself', 'or', \"that'll\", 'weren', 'a', 'the', 'because', 'has', 'couldn', 'y', \"haven't\", 'by', \"wouldn't\", 'while', 'haven', 'hers', 'do', 'them', 're', 'll', 'off', \"couldn't\", 'didn', \"you'd\", 'just', \"isn't\", 'why', 'through', 'can', 'an', 'their', 'wasn', 'both', 'himself', 'above', 'some', 'won', \"wasn't\", 'those', 'with', 'd', 'ma', 's', 'doing', 'wouldn', 'which', \"mightn't\", 'hadn', 'now', 'm', \"weren't\", 'when', 'will', 'where', 'yourself', 'me', 'any', 'once', 'yours', \"shan't\", 'same', 'under', 'further', 'how', \"doesn't\", 't', 'isn', 'having', 'up', 'to', 'yourselves', 'than', 'mustn', 'whom'}\n"
     ]
    }
   ],
   "source": [
    "nltk.download('stopwords')\n",
    "stop_words = set(stopwords.words('english'))\n",
    "print(stop_words)"
   ]
  },
  {
   "cell_type": "code",
   "execution_count": 20,
   "metadata": {
    "id": "HA6Gqi2aY8jL"
   },
   "outputs": [],
   "source": [
    "# words like no and not are commonly occur in negative reviews hence will remove these stop words from the \n",
    "# stop words set\n",
    "stop_words.remove('no')\n",
    "stop_words.remove('not')\n",
    "#adding commonl occuring html tags in stop words\n",
    "stop_words.add('br')\n",
    "stop_words.add('html')\n",
    "stop_words.add('b')\n",
    "stop_words.add('hr')\n",
    "stop_words.add('link')\n",
    "stop_words.add('p')"
   ]
  },
  {
   "cell_type": "code",
   "execution_count": 21,
   "metadata": {
    "id": "nLI-nbCRY8R7"
   },
   "outputs": [],
   "source": [
    "def remove_stop_words(text):\n",
    "    '''\n",
    "    input: takes text as an input and checks for all stop words present in the text\n",
    "    output: return the text without stop words\n",
    "    '''\n",
    "    word_token = word_tokenize(text)\n",
    "    filtered_text = [word for word in word_token if not word in stop_words]\n",
    "    return ' '.join(filtered_text)"
   ]
  },
  {
   "cell_type": "code",
   "execution_count": 22,
   "metadata": {
    "colab": {
     "base_uri": "https://localhost:8080/"
    },
    "id": "hfu_i_vRd6k0",
    "outputId": "962db908-3b19-446d-eaf6-07ddf83152ba"
   },
   "outputs": [
    {
     "name": "stderr",
     "output_type": "stream",
     "text": [
      "[nltk_data] Downloading package wordnet to\n",
      "[nltk_data]     C:\\Users\\ShashiKant\\AppData\\Roaming\\nltk_data...\n",
      "[nltk_data]   Package wordnet is already up-to-date!\n",
      "[nltk_data] Downloading package omw-1.4 to\n",
      "[nltk_data]     C:\\Users\\ShashiKant\\AppData\\Roaming\\nltk_data...\n",
      "[nltk_data]   Package omw-1.4 is already up-to-date!\n"
     ]
    }
   ],
   "source": [
    "import nltk\n",
    "from nltk.corpus import wordnet as wn\n",
    "from nltk.stem.wordnet import WordNetLemmatizer\n",
    "from nltk import word_tokenize, pos_tag\n",
    "from collections import defaultdict\n",
    "nltk.download('wordnet')\n",
    "nltk.download('omw-1.4')\n",
    "tag_map = defaultdict(lambda : wn.NOUN)\n",
    "tag_map['J'] = wn.ADJ\n",
    "tag_map['V'] = wn.VERB\n",
    "tag_map['R'] = wn.ADV\n",
    "\n",
    "\n",
    "def lemmatize_text(text):\n",
    "    '''\n",
    "    input: takes text as input and converts/ lemmatize all the words in that text\n",
    "    output: return text with all the words converted to their corresponding lemma\n",
    "    '''\n",
    "    word_token = word_tokenize(text)\n",
    "    lemmatizer = WordNetLemmatizer()\n",
    "    lemmatized_words = []\n",
    "    for token, tag in pos_tag(word_token):\n",
    "        lemma = lemmatizer.lemmatize(token, tag_map[tag[0]])\n",
    "        lemmatized_words.append(lemma)\n",
    "        \n",
    "    return ' '.join(lemmatized_words)"
   ]
  },
  {
   "cell_type": "code",
   "execution_count": 23,
   "metadata": {
    "colab": {
     "base_uri": "https://localhost:8080/",
     "height": 145
    },
    "id": "Kd3f09wgof01",
    "outputId": "c3b78170-921c-4ea0-e9ef-57169ba3259f"
   },
   "outputs": [
    {
     "data": {
      "text/plain": [
       "'i thought this was wonderful way to spend time on too hot summer weekend sitting in the air conditioned theater and watching light hearted comedy the plot is simplistic but the dialogue is witty and the characters are likable even the well bread suspected serial killer while some may be disappointed when they realize this is not match point risk addiction thought it was proof that woody allen is still fully in control of the style many of us have grown to love br br this was the most would laughed at one of woody is comedies in years dare say decade while have never been impressed with scarlet johanson in this she managed to tone down her sexy image and jumped right into average but spirited young woman br br this may not be the crown jewel of his career but it was wittier than devil wears prada and more interesting than superman great comedy to go see with friends '"
      ]
     },
     "execution_count": 23,
     "metadata": {},
     "output_type": "execute_result"
    }
   ],
   "source": [
    "train.review.iloc[2] "
   ]
  },
  {
   "cell_type": "code",
   "execution_count": 24,
   "metadata": {
    "colab": {
     "base_uri": "https://localhost:8080/"
    },
    "id": "Qtuvn4t8d6hI",
    "outputId": "b993de27-2356-46bd-e4b1-88ac269e6109"
   },
   "outputs": [
    {
     "name": "stderr",
     "output_type": "stream",
     "text": [
      "[nltk_data] Downloading package punkt to\n",
      "[nltk_data]     C:\\Users\\ShashiKant\\AppData\\Roaming\\nltk_data...\n",
      "[nltk_data]   Package punkt is already up-to-date!\n"
     ]
    }
   ],
   "source": [
    "nltk.download('punkt')\n",
    "train.loc[:,'review'] = train.review.apply(remove_stop_words)"
   ]
  },
  {
   "cell_type": "code",
   "execution_count": 25,
   "metadata": {
    "colab": {
     "base_uri": "https://localhost:8080/",
     "height": 109
    },
    "id": "r0XBf77WolaE",
    "outputId": "70a32a37-f58b-426b-efae-4667e1f5b3c5"
   },
   "outputs": [
    {
     "data": {
      "text/plain": [
       "'thought wonderful way spend time hot summer weekend sitting air conditioned theater watching light hearted comedy plot simplistic dialogue witty characters likable even well bread suspected serial killer may disappointed realize not match point risk addiction thought proof woody allen still fully control style many us grown love would laughed one woody comedies years dare say decade never impressed scarlet johanson managed tone sexy image jumped right average spirited young woman may not crown jewel career wittier devil wears prada interesting superman great comedy go see friends'"
      ]
     },
     "execution_count": 25,
     "metadata": {},
     "output_type": "execute_result"
    }
   ],
   "source": [
    "train.review.iloc[2] "
   ]
  },
  {
   "cell_type": "code",
   "execution_count": 26,
   "metadata": {
    "colab": {
     "base_uri": "https://localhost:8080/"
    },
    "id": "dPvGJ8HEd6fs",
    "outputId": "cc810bca-b9bd-4956-aeea-2613d7a99701"
   },
   "outputs": [
    {
     "name": "stderr",
     "output_type": "stream",
     "text": [
      "[nltk_data] Downloading package averaged_perceptron_tagger to\n",
      "[nltk_data]     C:\\Users\\ShashiKant\\AppData\\Roaming\\nltk_data...\n",
      "[nltk_data]   Package averaged_perceptron_tagger is already up-to-\n",
      "[nltk_data]       date!\n"
     ]
    }
   ],
   "source": [
    "nltk.download('averaged_perceptron_tagger')\n",
    "train.loc[:,'review'] = train.review.apply(lemmatize_text)"
   ]
  },
  {
   "cell_type": "code",
   "execution_count": 27,
   "metadata": {
    "colab": {
     "base_uri": "https://localhost:8080/",
     "height": 90
    },
    "id": "oYk1yqtfomrv",
    "outputId": "6c7f23bd-7336-44a5-ce8c-f04b9e1db941"
   },
   "outputs": [
    {
     "data": {
      "text/plain": [
       "'think wonderful way spend time hot summer weekend sit air condition theater watch light hearted comedy plot simplistic dialogue witty character likable even well bread suspect serial killer may disappoint realize not match point risk addiction think proof woody allen still fully control style many u grown love would laugh one woody comedies year dare say decade never impress scarlet johanson manage tone sexy image jump right average spirit young woman may not crown jewel career witty devil wear prada interest superman great comedy go see friend'"
      ]
     },
     "execution_count": 27,
     "metadata": {},
     "output_type": "execute_result"
    }
   ],
   "source": [
    "train.review.iloc[2] "
   ]
  },
  {
   "cell_type": "code",
   "execution_count": 28,
   "metadata": {
    "colab": {
     "base_uri": "https://localhost:8080/"
    },
    "id": "2Zdnv-KZuQTI",
    "outputId": "976819f2-45ac-44e3-8658-ae9ff73a2ea4"
   },
   "outputs": [
    {
     "name": "stdout",
     "output_type": "stream",
     "text": [
      "After vectorizations\n",
      "(40000, 5000)\n"
     ]
    }
   ],
   "source": [
    "from sklearn.feature_extraction.text import TfidfVectorizer\n",
    "from sklearn.feature_extraction.text import CountVectorizer\n",
    "\n",
    "vectorizer = CountVectorizer(min_df=10,ngram_range=(1,4), max_features=5000)\n",
    "vectorizer.fit(train['review'].values)\n",
    "\n",
    "train_bow = vectorizer.transform(train['review'].values)\n",
    "\n",
    "print(\"After vectorizations\")\n",
    "print(train_bow.shape)"
   ]
  },
  {
   "cell_type": "code",
   "execution_count": 29,
   "metadata": {
    "id": "UXRmug2wub2l"
   },
   "outputs": [],
   "source": [
    "# encoding y label, encoding positive to 1 and negative to 0\n",
    "y_train = train.sentiment.map(dict(positive=1, negative=0))"
   ]
  },
  {
   "cell_type": "code",
   "execution_count": 30,
   "metadata": {
    "colab": {
     "base_uri": "https://localhost:8080/"
    },
    "id": "xng0QKbrusB6",
    "outputId": "612a0cfb-340a-418b-84e7-671376132dbe"
   },
   "outputs": [
    {
     "name": "stdout",
     "output_type": "stream",
     "text": [
      "After vectorizations and preprocessing of test data:\n",
      "(10000, 5000)\n"
     ]
    }
   ],
   "source": [
    "# similarly preparing test data\n",
    "test.loc[:,'review'] = test.review.apply(decontract_words) \n",
    "test.loc[:,'review'] = test.review.apply(removePunctuation)\n",
    "test.loc[:,'review'] = test.review.apply(remove_stop_words)\n",
    "test.loc[:,'review'] = test.review.apply(lemmatize_text)\n",
    "\n",
    "test_bow = vectorizer.transform(test['review'].values)\n",
    "\n",
    "print(\"After vectorizations and preprocessing of test data:\")\n",
    "print(test_bow.shape)"
   ]
  },
  {
   "cell_type": "code",
   "execution_count": 31,
   "metadata": {
    "id": "GSDk7HXUur-y"
   },
   "outputs": [],
   "source": [
    "y_test = test.sentiment.map(dict(positive=1, negative=0))"
   ]
  },
  {
   "cell_type": "code",
   "execution_count": 32,
   "metadata": {
    "colab": {
     "base_uri": "https://localhost:8080/",
     "height": 295
    },
    "id": "FCF97FWyur7T",
    "outputId": "388ed6ff-c046-4f31-fd1c-aa24982b6abf"
   },
   "outputs": [
    {
     "data": {
      "image/png": "[encoded data removed]",
      "text/plain": [
       "<Figure size 432x288 with 1 Axes>"
      ]
     },
     "metadata": {
      "needs_background": "light"
     },
     "output_type": "display_data"
    }
   ],
   "source": [
    "from sklearn.model_selection import GridSearchCV\n",
    "from sklearn.neighbors import KNeighborsClassifier\n",
    "\n",
    "knn_classifier = KNeighborsClassifier()\n",
    "parameters = {'n_neighbors':[3, 15, 25, 51, 101, 105, 111, 115]}\n",
    "\n",
    "grid_classifier = GridSearchCV(knn_classifier, parameters, cv=3, scoring='roc_auc', return_train_score=True)\n",
    "grid_classifier.fit(train_bow, y_train)\n",
    "\n",
    "results = pd.DataFrame.from_dict(grid_classifier.cv_results_)\n",
    "results = results.sort_values(['param_n_neighbors'])\n",
    "\n",
    "train_auc= results['mean_train_score']\n",
    "train_auc_std= results['std_train_score']\n",
    "cv_auc = results['mean_test_score'] \n",
    "cv_auc_std= results['std_test_score']\n",
    "K =  results['param_n_neighbors']\n",
    "\n",
    "plt.plot(K, train_auc, label='Train AUC')\n",
    "plt.plot(K, cv_auc, label='CV AUC')\n",
    "\n",
    "plt.scatter(K, train_auc, label='Train AUC points')\n",
    "plt.scatter(K, cv_auc, label='CV AUC points')\n",
    "\n",
    "plt.legend()\n",
    "plt.xlabel(\"K: hyperparameter\")\n",
    "plt.ylabel(\"AUC\")\n",
    "plt.title(\"Hyper parameter Vs AUC plot\")\n",
    "plt.grid()\n",
    "plt.show()"
   ]
  },
  {
   "cell_type": "code",
   "execution_count": 33,
   "metadata": {
    "colab": {
     "base_uri": "https://localhost:8080/",
     "height": 503
    },
    "id": "I4_JtV8yur5Q",
    "outputId": "a96b588e-3762-4967-b490-51070537091e"
   },
   "outputs": [
    {
     "data": {
      "text/html": [
       "<div>\n",
       "<style scoped>\n",
       "    .dataframe tbody tr th:only-of-type {\n",
       "        vertical-align: middle;\n",
       "    }\n",
       "\n",
       "    .dataframe tbody tr th {\n",
       "        vertical-align: top;\n",
       "    }\n",
       "\n",
       "    .dataframe thead th {\n",
       "        text-align: right;\n",
       "    }\n",
       "</style>\n",
       "<table border=\"1\" class=\"dataframe\">\n",
       "  <thead>\n",
       "    <tr style=\"text-align: right;\">\n",
       "      <th></th>\n",
       "      <th>mean_fit_time</th>\n",
       "      <th>std_fit_time</th>\n",
       "      <th>mean_score_time</th>\n",
       "      <th>std_score_time</th>\n",
       "      <th>param_n_neighbors</th>\n",
       "      <th>params</th>\n",
       "      <th>split0_test_score</th>\n",
       "      <th>split1_test_score</th>\n",
       "      <th>split2_test_score</th>\n",
       "      <th>mean_test_score</th>\n",
       "      <th>std_test_score</th>\n",
       "      <th>rank_test_score</th>\n",
       "      <th>split0_train_score</th>\n",
       "      <th>split1_train_score</th>\n",
       "      <th>split2_train_score</th>\n",
       "      <th>mean_train_score</th>\n",
       "      <th>std_train_score</th>\n",
       "    </tr>\n",
       "  </thead>\n",
       "  <tbody>\n",
       "    <tr>\n",
       "      <th>0</th>\n",
       "      <td>0.212104</td>\n",
       "      <td>0.123950</td>\n",
       "      <td>36.526374</td>\n",
       "      <td>5.451582</td>\n",
       "      <td>3</td>\n",
       "      <td>{'n_neighbors': 3}</td>\n",
       "      <td>0.675798</td>\n",
       "      <td>0.676212</td>\n",
       "      <td>0.683549</td>\n",
       "      <td>0.678520</td>\n",
       "      <td>0.003561</td>\n",
       "      <td>8</td>\n",
       "      <td>0.890036</td>\n",
       "      <td>0.890164</td>\n",
       "      <td>0.898609</td>\n",
       "      <td>0.892936</td>\n",
       "      <td>0.004011</td>\n",
       "    </tr>\n",
       "    <tr>\n",
       "      <th>1</th>\n",
       "      <td>0.050200</td>\n",
       "      <td>0.008970</td>\n",
       "      <td>34.849355</td>\n",
       "      <td>0.784405</td>\n",
       "      <td>15</td>\n",
       "      <td>{'n_neighbors': 15}</td>\n",
       "      <td>0.764724</td>\n",
       "      <td>0.761439</td>\n",
       "      <td>0.753686</td>\n",
       "      <td>0.759950</td>\n",
       "      <td>0.004628</td>\n",
       "      <td>7</td>\n",
       "      <td>0.843513</td>\n",
       "      <td>0.845407</td>\n",
       "      <td>0.833493</td>\n",
       "      <td>0.840804</td>\n",
       "      <td>0.005227</td>\n",
       "    </tr>\n",
       "    <tr>\n",
       "      <th>2</th>\n",
       "      <td>0.059509</td>\n",
       "      <td>0.015046</td>\n",
       "      <td>38.807269</td>\n",
       "      <td>1.885088</td>\n",
       "      <td>25</td>\n",
       "      <td>{'n_neighbors': 25}</td>\n",
       "      <td>0.786344</td>\n",
       "      <td>0.785617</td>\n",
       "      <td>0.777836</td>\n",
       "      <td>0.783266</td>\n",
       "      <td>0.003851</td>\n",
       "      <td>6</td>\n",
       "      <td>0.839925</td>\n",
       "      <td>0.844523</td>\n",
       "      <td>0.834796</td>\n",
       "      <td>0.839748</td>\n",
       "      <td>0.003973</td>\n",
       "    </tr>\n",
       "    <tr>\n",
       "      <th>3</th>\n",
       "      <td>0.050201</td>\n",
       "      <td>0.004631</td>\n",
       "      <td>37.173304</td>\n",
       "      <td>2.667887</td>\n",
       "      <td>51</td>\n",
       "      <td>{'n_neighbors': 51}</td>\n",
       "      <td>0.803397</td>\n",
       "      <td>0.800416</td>\n",
       "      <td>0.800421</td>\n",
       "      <td>0.801411</td>\n",
       "      <td>0.001404</td>\n",
       "      <td>5</td>\n",
       "      <td>0.830964</td>\n",
       "      <td>0.839865</td>\n",
       "      <td>0.834969</td>\n",
       "      <td>0.835266</td>\n",
       "      <td>0.003640</td>\n",
       "    </tr>\n",
       "    <tr>\n",
       "      <th>4</th>\n",
       "      <td>0.052194</td>\n",
       "      <td>0.007388</td>\n",
       "      <td>37.721518</td>\n",
       "      <td>2.277512</td>\n",
       "      <td>101</td>\n",
       "      <td>{'n_neighbors': 101}</td>\n",
       "      <td>0.817541</td>\n",
       "      <td>0.806081</td>\n",
       "      <td>0.814045</td>\n",
       "      <td>0.812556</td>\n",
       "      <td>0.004795</td>\n",
       "      <td>4</td>\n",
       "      <td>0.829470</td>\n",
       "      <td>0.833048</td>\n",
       "      <td>0.832413</td>\n",
       "      <td>0.831644</td>\n",
       "      <td>0.001559</td>\n",
       "    </tr>\n",
       "    <tr>\n",
       "      <th>5</th>\n",
       "      <td>0.040896</td>\n",
       "      <td>0.000819</td>\n",
       "      <td>34.904199</td>\n",
       "      <td>2.254011</td>\n",
       "      <td>105</td>\n",
       "      <td>{'n_neighbors': 105}</td>\n",
       "      <td>0.818486</td>\n",
       "      <td>0.805890</td>\n",
       "      <td>0.814995</td>\n",
       "      <td>0.813124</td>\n",
       "      <td>0.005310</td>\n",
       "      <td>3</td>\n",
       "      <td>0.830291</td>\n",
       "      <td>0.832701</td>\n",
       "      <td>0.832006</td>\n",
       "      <td>0.831666</td>\n",
       "      <td>0.001013</td>\n",
       "    </tr>\n",
       "    <tr>\n",
       "      <th>6</th>\n",
       "      <td>0.042565</td>\n",
       "      <td>0.002052</td>\n",
       "      <td>39.815624</td>\n",
       "      <td>4.662059</td>\n",
       "      <td>111</td>\n",
       "      <td>{'n_neighbors': 111}</td>\n",
       "      <td>0.818809</td>\n",
       "      <td>0.806647</td>\n",
       "      <td>0.815267</td>\n",
       "      <td>0.813574</td>\n",
       "      <td>0.005107</td>\n",
       "      <td>1</td>\n",
       "      <td>0.829255</td>\n",
       "      <td>0.831995</td>\n",
       "      <td>0.831761</td>\n",
       "      <td>0.831004</td>\n",
       "      <td>0.001241</td>\n",
       "    </tr>\n",
       "    <tr>\n",
       "      <th>7</th>\n",
       "      <td>0.044895</td>\n",
       "      <td>0.006461</td>\n",
       "      <td>35.551776</td>\n",
       "      <td>3.108388</td>\n",
       "      <td>115</td>\n",
       "      <td>{'n_neighbors': 115}</td>\n",
       "      <td>0.819116</td>\n",
       "      <td>0.806178</td>\n",
       "      <td>0.815177</td>\n",
       "      <td>0.813490</td>\n",
       "      <td>0.005415</td>\n",
       "      <td>2</td>\n",
       "      <td>0.829402</td>\n",
       "      <td>0.831613</td>\n",
       "      <td>0.831777</td>\n",
       "      <td>0.830930</td>\n",
       "      <td>0.001083</td>\n",
       "    </tr>\n",
       "  </tbody>\n",
       "</table>\n",
       "</div>"
      ],
      "text/plain": [
       "   mean_fit_time  std_fit_time  mean_score_time  std_score_time  \\\n",
       "0       0.212104      0.123950        36.526374        5.451582   \n",
       "1       0.050200      0.008970        34.849355        0.784405   \n",
       "2       0.059509      0.015046        38.807269        1.885088   \n",
       "3       0.050201      0.004631        37.173304        2.667887   \n",
       "4       0.052194      0.007388        37.721518        2.277512   \n",
       "5       0.040896      0.000819        34.904199        2.254011   \n",
       "6       0.042565      0.002052        39.815624        4.662059   \n",
       "7       0.044895      0.006461        35.551776        3.108388   \n",
       "\n",
       "  param_n_neighbors                params  split0_test_score  \\\n",
       "0                 3    {'n_neighbors': 3}           0.675798   \n",
       "1                15   {'n_neighbors': 15}           0.764724   \n",
       "2                25   {'n_neighbors': 25}           0.786344   \n",
       "3                51   {'n_neighbors': 51}           0.803397   \n",
       "4               101  {'n_neighbors': 101}           0.817541   \n",
       "5               105  {'n_neighbors': 105}           0.818486   \n",
       "6               111  {'n_neighbors': 111}           0.818809   \n",
       "7               115  {'n_neighbors': 115}           0.819116   \n",
       "\n",
       "   split1_test_score  split2_test_score  mean_test_score  std_test_score  \\\n",
       "0           0.676212           0.683549         0.678520        0.003561   \n",
       "1           0.761439           0.753686         0.759950        0.004628   \n",
       "2           0.785617           0.777836         0.783266        0.003851   \n",
       "3           0.800416           0.800421         0.801411        0.001404   \n",
       "4           0.806081           0.814045         0.812556        0.004795   \n",
       "5           0.805890           0.814995         0.813124        0.005310   \n",
       "6           0.806647           0.815267         0.813574        0.005107   \n",
       "7           0.806178           0.815177         0.813490        0.005415   \n",
       "\n",
       "   rank_test_score  split0_train_score  split1_train_score  \\\n",
       "0                8            0.890036            0.890164   \n",
       "1                7            0.843513            0.845407   \n",
       "2                6            0.839925            0.844523   \n",
       "3                5            0.830964            0.839865   \n",
       "4                4            0.829470            0.833048   \n",
       "5                3            0.830291            0.832701   \n",
       "6                1            0.829255            0.831995   \n",
       "7                2            0.829402            0.831613   \n",
       "\n",
       "   split2_train_score  mean_train_score  std_train_score  \n",
       "0            0.898609          0.892936         0.004011  \n",
       "1            0.833493          0.840804         0.005227  \n",
       "2            0.834796          0.839748         0.003973  \n",
       "3            0.834969          0.835266         0.003640  \n",
       "4            0.832413          0.831644         0.001559  \n",
       "5            0.832006          0.831666         0.001013  \n",
       "6            0.831761          0.831004         0.001241  \n",
       "7            0.831777          0.830930         0.001083  "
      ]
     },
     "execution_count": 33,
     "metadata": {},
     "output_type": "execute_result"
    }
   ],
   "source": [
    "results"
   ]
  },
  {
   "cell_type": "code",
   "execution_count": 34,
   "metadata": {
    "id": "zivZFlwa550S"
   },
   "outputs": [],
   "source": [
    "# from the results, it was observed that best k is 111\n",
    "\n",
    "best_k = 111"
   ]
  },
  {
   "cell_type": "code",
   "execution_count": 35,
   "metadata": {
    "id": "4OYpGwWj605t"
   },
   "outputs": [],
   "source": [
    "from sklearn.metrics import roc_curve, auc\n",
    "\n",
    "knn_clf = KNeighborsClassifier(n_neighbors=best_k, n_jobs=-1)\n",
    "knn_clf.fit(train_bow, y_train)\n",
    "\n",
    "y_train_pred = knn_clf.predict_proba(train_bow)[:,1] \n",
    "y_test_pred = knn_clf.predict_proba(test_bow)[:,1]"
   ]
  },
  {
   "cell_type": "code",
   "execution_count": 36,
   "metadata": {
    "colab": {
     "base_uri": "https://localhost:8080/"
    },
    "id": "yB-EyvWCFkCm",
    "outputId": "05a812c9-7d17-44e4-b59c-f94d9133fcdf"
   },
   "outputs": [
    {
     "data": {
      "text/plain": [
       "(40000,)"
      ]
     },
     "execution_count": 36,
     "metadata": {},
     "output_type": "execute_result"
    }
   ],
   "source": [
    "y_train.shape"
   ]
  },
  {
   "cell_type": "code",
   "execution_count": 37,
   "metadata": {
    "colab": {
     "base_uri": "https://localhost:8080/"
    },
    "id": "vx3iksgqFn2W",
    "outputId": "e67a7b57-4c6a-4bfe-fbae-4b4dac7de7db"
   },
   "outputs": [
    {
     "data": {
      "text/plain": [
       "(40000,)"
      ]
     },
     "execution_count": 37,
     "metadata": {},
     "output_type": "execute_result"
    }
   ],
   "source": [
    "y_train_pred.shape"
   ]
  },
  {
   "cell_type": "code",
   "execution_count": 38,
   "metadata": {
    "id": "MrM19K2x602f"
   },
   "outputs": [],
   "source": [
    "train_fpr, train_tpr, tr_thresholds = roc_curve(y_train, y_train_pred)\n",
    "test_fpr, test_tpr, te_thresholds = roc_curve(y_test, y_test_pred)"
   ]
  },
  {
   "cell_type": "code",
   "execution_count": 39,
   "metadata": {
    "colab": {
     "base_uri": "https://localhost:8080/",
     "height": 295
    },
    "id": "d7HXSzGa600Z",
    "outputId": "b30d3c7d-2344-4794-be96-28c859967b28"
   },
   "outputs": [
    {
     "data": {
      "image/png": "[encoded data removed]",
      "text/plain": [
       "<Figure size 432x288 with 1 Axes>"
      ]
     },
     "metadata": {
      "needs_background": "light"
     },
     "output_type": "display_data"
    }
   ],
   "source": [
    "plt.plot(train_fpr, train_tpr, label=\"train AUC =\"+str(auc(train_fpr, train_tpr)))\n",
    "plt.plot(test_fpr, test_tpr, label=\"test AUC =\"+str(auc(test_fpr, test_tpr)))\n",
    "plt.legend()\n",
    "plt.xlabel(\"fpr\")\n",
    "plt.ylabel(\"tpr\")\n",
    "plt.title(\"AUC curve for train and test\")\n",
    "plt.grid()\n",
    "plt.show()"
   ]
  },
  {
   "cell_type": "code",
   "execution_count": 40,
   "metadata": {
    "id": "c4S9DgQj60xg"
   },
   "outputs": [],
   "source": [
    "def find_best_threshold(threshould, fpr, tpr):\n",
    "    '''\n",
    "    input: takes threshould, fpr, tpr from roc curve results and try to find the best threshould for which fpr will be least\n",
    "    output : return the best threshould value\n",
    "    '''\n",
    "    t = threshould[np.argmax(tpr*(1-fpr))]\n",
    "    # (tpr*(1-fpr)) will be maximum if your fpr is very low and tpr is very high\n",
    "    print(\"the maximum value of tpr*(1-fpr)\", max(tpr*(1-fpr)), \"for threshold\", np.round(t,3))\n",
    "    return t\n",
    "\n",
    "def predict_with_best_t(proba, threshould):\n",
    "    '''\n",
    "    input: takes the predict_proba values of test data and best threshould\n",
    "    output: return the prediction based on probabilities and choosed best threshould\n",
    "    '''\n",
    "    predictions = []\n",
    "    for i in proba:\n",
    "        if i>=threshould:\n",
    "            predictions.append(1)\n",
    "        else:\n",
    "            predictions.append(0)\n",
    "    return predictions"
   ]
  },
  {
   "cell_type": "code",
   "execution_count": 41,
   "metadata": {
    "colab": {
     "base_uri": "https://localhost:8080/",
     "height": 320
    },
    "id": "JlohsHBG60vp",
    "outputId": "dfc5994b-7a0d-4080-e32e-d273d3963705"
   },
   "outputs": [
    {
     "name": "stdout",
     "output_type": "stream",
     "text": [
      "the maximum value of tpr*(1-fpr) 0.5741605253346643 for threshold 0.541\n",
      "Train confusion matrix\n"
     ]
    },
    {
     "data": {
      "text/plain": [
       "<AxesSubplot:>"
      ]
     },
     "execution_count": 41,
     "metadata": {},
     "output_type": "execute_result"
    },
    {
     "data": {
      "image/png": "[encoded data removed]",
      "text/plain": [
       "<Figure size 432x288 with 2 Axes>"
      ]
     },
     "metadata": {
      "needs_background": "light"
     },
     "output_type": "display_data"
    }
   ],
   "source": [
    "from sklearn.metrics import confusion_matrix\n",
    "\n",
    "best_t = find_best_threshold(tr_thresholds, train_fpr, train_tpr)\n",
    "\n",
    "print(\"Train confusion matrix\")\n",
    "train_confusion_mat = confusion_matrix(y_train, predict_with_best_t(y_train_pred, best_t))\n",
    "sns.heatmap(train_confusion_mat, annot=True, fmt='d')"
   ]
  },
  {
   "cell_type": "code",
   "execution_count": 42,
   "metadata": {
    "colab": {
     "base_uri": "https://localhost:8080/",
     "height": 302
    },
    "id": "LmAOG6Og60JW",
    "outputId": "91aba329-cf08-4663-faee-fd0eefb3b7a1"
   },
   "outputs": [
    {
     "name": "stdout",
     "output_type": "stream",
     "text": [
      "Test confusion matrix\n"
     ]
    },
    {
     "data": {
      "text/plain": [
       "<AxesSubplot:>"
      ]
     },
     "execution_count": 42,
     "metadata": {},
     "output_type": "execute_result"
    },
    {
     "data": {
      "image/png": "[encoded data removed]",
      "text/plain": [
       "<Figure size 432x288 with 2 Axes>"
      ]
     },
     "metadata": {
      "needs_background": "light"
     },
     "output_type": "display_data"
    }
   ],
   "source": [
    "print(\"Test confusion matrix\")\n",
    "test_confusion_mat = confusion_matrix(y_test, predict_with_best_t(y_test_pred, best_t))\n",
    "sns.heatmap(test_confusion_mat, annot=True, fmt='d')"
   ]
  },
  {
   "cell_type": "code",
   "execution_count": 43,
   "metadata": {
    "colab": {
     "base_uri": "https://localhost:8080/"
    },
    "id": "_-PJ5wA7K8J2",
    "outputId": "6482d419-d0d4-45eb-a9fa-0de8059e34f0"
   },
   "outputs": [
    {
     "name": "stdout",
     "output_type": "stream",
     "text": [
      "Accuracy: 0.7407\n",
      "Precision score: 0.7472347398607129\n",
      "Recall score: 0.7285799880167765\n",
      "F1 score: 0.7377894630397411\n"
     ]
    }
   ],
   "source": [
    "from sklearn.metrics import accuracy_score, precision_score, recall_score, f1_score\n",
    "\n",
    "def print_aprf_scores(y_true, y_pred):\n",
    "    '''\n",
    "    input: ground truth and predicted value of those ground truths\n",
    "    output: print accuracy,precison, recall and f1 score\n",
    "    '''\n",
    "    print(f'Accuracy: {accuracy_score(y_true, y_pred)}')\n",
    "    print(f'Precision score: {precision_score(y_true, y_pred)}')\n",
    "    print(f'Recall score: {recall_score(y_true, y_pred)}')\n",
    "    print(f'F1 score: {f1_score(y_true, y_pred)}')\n",
    "\n",
    "print_aprf_scores(y_test, predict_with_best_t(y_test_pred, best_t))"
   ]
  },
  {
   "cell_type": "code",
   "execution_count": 44,
   "metadata": {
    "colab": {
     "base_uri": "https://localhost:8080/"
    },
    "id": "6VjrNU8oRolY",
    "outputId": "ff2c41ee-94aa-4e9b-aec8-789c5c0da83c"
   },
   "outputs": [
    {
     "name": "stdout",
     "output_type": "stream",
     "text": [
      "ROC score: 0.8208042687763668\n",
      "log loss: 8.956003389523227\n",
      "brier score loss: 0.2593\n"
     ]
    }
   ],
   "source": [
    "from sklearn.metrics import roc_auc_score, log_loss, brier_score_loss\n",
    "\n",
    "print(f'ROC score: {roc_auc_score(y_test,y_test_pred)}')\n",
    "print(f'log loss: {log_loss(y_test, predict_with_best_t(y_test_pred, best_t))}')\n",
    "print(f'brier score loss: {brier_score_loss(y_test, predict_with_best_t(y_test_pred, best_t))}')"
   ]
  },
  {
   "cell_type": "markdown",
   "metadata": {
    "id": "1HXCkJpKaiC_"
   },
   "source": [
    "# Apply Logistic Regression"
   ]
  },
  {
   "cell_type": "code",
   "execution_count": 45,
   "metadata": {
    "id": "JNRHIzAFWzq2"
   },
   "outputs": [],
   "source": [
    "from sklearn.linear_model import LogisticRegression\n",
    "import warnings\n",
    "warnings.filterwarnings(\"ignore\")\n",
    "\n",
    "\n",
    "\n",
    "lr_classifier = LogisticRegression(penalty='l2', solver='saga' )\n",
    "parameters = {\n",
    "              'C' : [0.001, 0.01, 0.1, 1, 10, 100]}\n",
    "\n",
    "grid_classifier = GridSearchCV(lr_classifier, parameters, cv=3, scoring='roc_auc', return_train_score=True)\n",
    "grid_classifier.fit(train_bow, y_train)\n",
    "\n",
    "results = pd.DataFrame.from_dict(grid_classifier.cv_results_)\n"
   ]
  },
  {
   "cell_type": "code",
   "execution_count": 46,
   "metadata": {
    "colab": {
     "base_uri": "https://localhost:8080/",
     "height": 388
    },
    "id": "nq_FZJ_Rcj6J",
    "outputId": "c5e3488e-aa45-4a1c-9c53-2ab5353380be"
   },
   "outputs": [
    {
     "data": {
      "text/html": [
       "<div>\n",
       "<style scoped>\n",
       "    .dataframe tbody tr th:only-of-type {\n",
       "        vertical-align: middle;\n",
       "    }\n",
       "\n",
       "    .dataframe tbody tr th {\n",
       "        vertical-align: top;\n",
       "    }\n",
       "\n",
       "    .dataframe thead th {\n",
       "        text-align: right;\n",
       "    }\n",
       "</style>\n",
       "<table border=\"1\" class=\"dataframe\">\n",
       "  <thead>\n",
       "    <tr style=\"text-align: right;\">\n",
       "      <th></th>\n",
       "      <th>mean_fit_time</th>\n",
       "      <th>std_fit_time</th>\n",
       "      <th>mean_score_time</th>\n",
       "      <th>std_score_time</th>\n",
       "      <th>param_C</th>\n",
       "      <th>params</th>\n",
       "      <th>split0_test_score</th>\n",
       "      <th>split1_test_score</th>\n",
       "      <th>split2_test_score</th>\n",
       "      <th>mean_test_score</th>\n",
       "      <th>std_test_score</th>\n",
       "      <th>rank_test_score</th>\n",
       "      <th>split0_train_score</th>\n",
       "      <th>split1_train_score</th>\n",
       "      <th>split2_train_score</th>\n",
       "      <th>mean_train_score</th>\n",
       "      <th>std_train_score</th>\n",
       "    </tr>\n",
       "  </thead>\n",
       "  <tbody>\n",
       "    <tr>\n",
       "      <th>0</th>\n",
       "      <td>1.504244</td>\n",
       "      <td>0.202774</td>\n",
       "      <td>0.342404</td>\n",
       "      <td>0.366919</td>\n",
       "      <td>0.001</td>\n",
       "      <td>{'C': 0.001}</td>\n",
       "      <td>0.926755</td>\n",
       "      <td>0.921952</td>\n",
       "      <td>0.922386</td>\n",
       "      <td>0.923698</td>\n",
       "      <td>0.002169</td>\n",
       "      <td>6</td>\n",
       "      <td>0.932141</td>\n",
       "      <td>0.933404</td>\n",
       "      <td>0.933917</td>\n",
       "      <td>0.933154</td>\n",
       "      <td>0.000746</td>\n",
       "    </tr>\n",
       "    <tr>\n",
       "      <th>1</th>\n",
       "      <td>4.341007</td>\n",
       "      <td>0.336711</td>\n",
       "      <td>0.027817</td>\n",
       "      <td>0.021737</td>\n",
       "      <td>0.01</td>\n",
       "      <td>{'C': 0.01}</td>\n",
       "      <td>0.949177</td>\n",
       "      <td>0.945856</td>\n",
       "      <td>0.946123</td>\n",
       "      <td>0.947052</td>\n",
       "      <td>0.001507</td>\n",
       "      <td>5</td>\n",
       "      <td>0.966579</td>\n",
       "      <td>0.966895</td>\n",
       "      <td>0.967632</td>\n",
       "      <td>0.967035</td>\n",
       "      <td>0.000441</td>\n",
       "    </tr>\n",
       "    <tr>\n",
       "      <th>2</th>\n",
       "      <td>4.110416</td>\n",
       "      <td>0.113962</td>\n",
       "      <td>0.028552</td>\n",
       "      <td>0.019518</td>\n",
       "      <td>0.1</td>\n",
       "      <td>{'C': 0.1}</td>\n",
       "      <td>0.952462</td>\n",
       "      <td>0.949331</td>\n",
       "      <td>0.949405</td>\n",
       "      <td>0.950399</td>\n",
       "      <td>0.001459</td>\n",
       "      <td>1</td>\n",
       "      <td>0.976561</td>\n",
       "      <td>0.976780</td>\n",
       "      <td>0.979650</td>\n",
       "      <td>0.977664</td>\n",
       "      <td>0.001407</td>\n",
       "    </tr>\n",
       "    <tr>\n",
       "      <th>3</th>\n",
       "      <td>4.062793</td>\n",
       "      <td>0.010062</td>\n",
       "      <td>0.028376</td>\n",
       "      <td>0.023212</td>\n",
       "      <td>1</td>\n",
       "      <td>{'C': 1}</td>\n",
       "      <td>0.952483</td>\n",
       "      <td>0.949372</td>\n",
       "      <td>0.949178</td>\n",
       "      <td>0.950345</td>\n",
       "      <td>0.001514</td>\n",
       "      <td>3</td>\n",
       "      <td>0.977489</td>\n",
       "      <td>0.977709</td>\n",
       "      <td>0.980903</td>\n",
       "      <td>0.978700</td>\n",
       "      <td>0.001560</td>\n",
       "    </tr>\n",
       "    <tr>\n",
       "      <th>4</th>\n",
       "      <td>4.063804</td>\n",
       "      <td>0.039433</td>\n",
       "      <td>0.018447</td>\n",
       "      <td>0.008468</td>\n",
       "      <td>10</td>\n",
       "      <td>{'C': 10}</td>\n",
       "      <td>0.952498</td>\n",
       "      <td>0.949411</td>\n",
       "      <td>0.949130</td>\n",
       "      <td>0.950346</td>\n",
       "      <td>0.001526</td>\n",
       "      <td>2</td>\n",
       "      <td>0.977574</td>\n",
       "      <td>0.977799</td>\n",
       "      <td>0.981018</td>\n",
       "      <td>0.978797</td>\n",
       "      <td>0.001573</td>\n",
       "    </tr>\n",
       "    <tr>\n",
       "      <th>5</th>\n",
       "      <td>4.045217</td>\n",
       "      <td>0.037971</td>\n",
       "      <td>0.012308</td>\n",
       "      <td>0.000491</td>\n",
       "      <td>100</td>\n",
       "      <td>{'C': 100}</td>\n",
       "      <td>0.952487</td>\n",
       "      <td>0.949384</td>\n",
       "      <td>0.949137</td>\n",
       "      <td>0.950336</td>\n",
       "      <td>0.001524</td>\n",
       "      <td>4</td>\n",
       "      <td>0.977579</td>\n",
       "      <td>0.977806</td>\n",
       "      <td>0.981029</td>\n",
       "      <td>0.978804</td>\n",
       "      <td>0.001576</td>\n",
       "    </tr>\n",
       "  </tbody>\n",
       "</table>\n",
       "</div>"
      ],
      "text/plain": [
       "   mean_fit_time  std_fit_time  mean_score_time  std_score_time param_C  \\\n",
       "0       1.504244      0.202774         0.342404        0.366919   0.001   \n",
       "1       4.341007      0.336711         0.027817        0.021737    0.01   \n",
       "2       4.110416      0.113962         0.028552        0.019518     0.1   \n",
       "3       4.062793      0.010062         0.028376        0.023212       1   \n",
       "4       4.063804      0.039433         0.018447        0.008468      10   \n",
       "5       4.045217      0.037971         0.012308        0.000491     100   \n",
       "\n",
       "         params  split0_test_score  split1_test_score  split2_test_score  \\\n",
       "0  {'C': 0.001}           0.926755           0.921952           0.922386   \n",
       "1   {'C': 0.01}           0.949177           0.945856           0.946123   \n",
       "2    {'C': 0.1}           0.952462           0.949331           0.949405   \n",
       "3      {'C': 1}           0.952483           0.949372           0.949178   \n",
       "4     {'C': 10}           0.952498           0.949411           0.949130   \n",
       "5    {'C': 100}           0.952487           0.949384           0.949137   \n",
       "\n",
       "   mean_test_score  std_test_score  rank_test_score  split0_train_score  \\\n",
       "0         0.923698        0.002169                6            0.932141   \n",
       "1         0.947052        0.001507                5            0.966579   \n",
       "2         0.950399        0.001459                1            0.976561   \n",
       "3         0.950345        0.001514                3            0.977489   \n",
       "4         0.950346        0.001526                2            0.977574   \n",
       "5         0.950336        0.001524                4            0.977579   \n",
       "\n",
       "   split1_train_score  split2_train_score  mean_train_score  std_train_score  \n",
       "0            0.933404            0.933917          0.933154         0.000746  \n",
       "1            0.966895            0.967632          0.967035         0.000441  \n",
       "2            0.976780            0.979650          0.977664         0.001407  \n",
       "3            0.977709            0.980903          0.978700         0.001560  \n",
       "4            0.977799            0.981018          0.978797         0.001573  \n",
       "5            0.977806            0.981029          0.978804         0.001576  "
      ]
     },
     "execution_count": 46,
     "metadata": {},
     "output_type": "execute_result"
    }
   ],
   "source": [
    "results"
   ]
  },
  {
   "cell_type": "code",
   "execution_count": 47,
   "metadata": {
    "colab": {
     "base_uri": "https://localhost:8080/"
    },
    "id": "Xmu9JJHWyLfx",
    "outputId": "c1208042-7f05-4bbd-a7a0-91cc3f2bb9f9"
   },
   "outputs": [
    {
     "data": {
      "text/plain": [
       "{'C': 0.1}"
      ]
     },
     "execution_count": 47,
     "metadata": {},
     "output_type": "execute_result"
    }
   ],
   "source": [
    "grid_classifier.best_params_"
   ]
  },
  {
   "cell_type": "code",
   "execution_count": 48,
   "metadata": {
    "colab": {
     "base_uri": "https://localhost:8080/",
     "height": 295
    },
    "id": "mfKAzExlchhB",
    "outputId": "8b6098f5-4bff-4b26-8d9a-4376e82e16aa"
   },
   "outputs": [
    {
     "data": {
      "image/png": "[encoded data removed]",
      "text/plain": [
       "<Figure size 432x288 with 1 Axes>"
      ]
     },
     "metadata": {
      "needs_background": "light"
     },
     "output_type": "display_data"
    }
   ],
   "source": [
    "# from above result, we can conclude that best C is 0.1\n",
    "lr_clf = LogisticRegression(penalty='l2', solver='saga', C=0.1)\n",
    "lr_clf.fit(train_bow, y_train)\n",
    "\n",
    "y_train_pred = lr_clf.predict_proba(train_bow)[:,1] \n",
    "y_test_pred = lr_clf.predict_proba(test_bow)[:,1]\n",
    "\n",
    "train_fpr, train_tpr, tr_thresholds = roc_curve(y_train, y_train_pred)\n",
    "test_fpr, test_tpr, te_thresholds = roc_curve(y_test, y_test_pred)\n",
    "\n",
    "plt.plot(train_fpr, train_tpr, label=\"train AUC =\"+str(auc(train_fpr, train_tpr)))\n",
    "plt.plot(test_fpr, test_tpr, label=\"test AUC =\"+str(auc(test_fpr, test_tpr)))\n",
    "plt.legend()\n",
    "plt.xlabel(\"fpr\")\n",
    "plt.ylabel(\"tpr\")\n",
    "plt.title(\"ROC \")\n",
    "plt.grid()\n",
    "plt.show()\n",
    "\n"
   ]
  },
  {
   "cell_type": "code",
   "execution_count": 49,
   "metadata": {
    "colab": {
     "base_uri": "https://localhost:8080/",
     "height": 320
    },
    "id": "Nc3TBIVpyV6r",
    "outputId": "cd475b91-fbcf-48c5-f790-c5b8fd567ff2"
   },
   "outputs": [
    {
     "name": "stdout",
     "output_type": "stream",
     "text": [
      "the maximum value of tpr*(1-fpr) 0.8487793539754708 for threshold 0.514\n",
      "Train confusion matrix\n"
     ]
    },
    {
     "data": {
      "text/plain": [
       "<AxesSubplot:>"
      ]
     },
     "execution_count": 49,
     "metadata": {},
     "output_type": "execute_result"
    },
    {
     "data": {
      "image/png": "[encoded data removed]",
      "text/plain": [
       "<Figure size 432x288 with 2 Axes>"
      ]
     },
     "metadata": {
      "needs_background": "light"
     },
     "output_type": "display_data"
    }
   ],
   "source": [
    "best_t = find_best_threshold(tr_thresholds, train_fpr, train_tpr)\n",
    "\n",
    "print(\"Train confusion matrix\")\n",
    "train_confusion_mat = confusion_matrix(y_train, predict_with_best_t(y_train_pred, best_t))\n",
    "sns.heatmap(train_confusion_mat, annot=True, fmt='d')"
   ]
  },
  {
   "cell_type": "code",
   "execution_count": 50,
   "metadata": {
    "colab": {
     "base_uri": "https://localhost:8080/",
     "height": 302
    },
    "id": "654IJYCAyt13",
    "outputId": "a0b131cb-0c56-4796-9604-e1e333cabd00"
   },
   "outputs": [
    {
     "name": "stdout",
     "output_type": "stream",
     "text": [
      "Test confusion matrix\n"
     ]
    },
    {
     "data": {
      "text/plain": [
       "<AxesSubplot:>"
      ]
     },
     "execution_count": 50,
     "metadata": {},
     "output_type": "execute_result"
    },
    {
     "data": {
      "image/png": "[encoded data removed]",
      "text/plain": [
       "<Figure size 432x288 with 2 Axes>"
      ]
     },
     "metadata": {
      "needs_background": "light"
     },
     "output_type": "display_data"
    }
   ],
   "source": [
    "print(\"Test confusion matrix\")\n",
    "test_confusion_mat = confusion_matrix(y_test, predict_with_best_t(y_test_pred, best_t))\n",
    "sns.heatmap(test_confusion_mat, annot=True, fmt='d')"
   ]
  },
  {
   "cell_type": "code",
   "execution_count": 51,
   "metadata": {
    "colab": {
     "base_uri": "https://localhost:8080/"
    },
    "id": "uv9Wr4z1y0Fw",
    "outputId": "bec12952-98be-4633-dce8-979d9d155297"
   },
   "outputs": [
    {
     "name": "stdout",
     "output_type": "stream",
     "text": [
      "Accuracy: 0.8888\n",
      "Precision score: 0.8914572864321608\n",
      "Recall score: 0.8857599360894748\n",
      "F1 score: 0.8885994790623122\n"
     ]
    }
   ],
   "source": [
    "print_aprf_scores(y_test, predict_with_best_t(y_test_pred, best_t))"
   ]
  },
  {
   "cell_type": "code",
   "execution_count": 52,
   "metadata": {
    "colab": {
     "base_uri": "https://localhost:8080/"
    },
    "id": "8Nq9YGosy7BL",
    "outputId": "eb9ced7e-9f59-4348-b63a-32dce6cbc7b1"
   },
   "outputs": [
    {
     "name": "stdout",
     "output_type": "stream",
     "text": [
      "ROC score: 0.9543555905369576\n",
      "log loss: 3.840755113375299\n",
      "brier score loss: 0.1112\n"
     ]
    }
   ],
   "source": [
    "print(f'ROC score: {roc_auc_score(y_test,y_test_pred)}')\n",
    "print(f'log loss: {log_loss(y_test, predict_with_best_t(y_test_pred, best_t))}')\n",
    "print(f'brier score loss: {brier_score_loss(y_test, predict_with_best_t(y_test_pred, best_t))}')"
   ]
  },
  {
   "cell_type": "code",
   "execution_count": null,
   "metadata": {
    "id": "ZoBzv5y7zD4K"
   },
   "outputs": [],
   "source": []
  },
  {
   "cell_type": "code",
   "execution_count": null,
   "metadata": {
    "id": "OwPMPkUP1co_"
   },
   "outputs": [],
   "source": []
  }
 ],
 "metadata": {
  "accelerator": "TPU",
  "colab": {
   "provenance": []
  },
  "gpuClass": "standard",
  "kernelspec": {
   "display_name": "Python 3",
   "language": "python",
   "name": "python3"
  },
  "language_info": {
   "codemirror_mode": {
    "name": "ipython",
    "version": 3
   },
   "file_extension": ".py",
   "mimetype": "text/x-python",
   "name": "python",
   "nbconvert_exporter": "python",
   "pygments_lexer": "ipython3",
   "version": "3.8.8"
  }
 },
 "nbformat": 4,
 "nbformat_minor": 1
}
